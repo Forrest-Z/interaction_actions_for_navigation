{
 "cells": [
  {
   "cell_type": "code",
   "execution_count": null,
   "metadata": {},
   "outputs": [],
   "source": [
    "from pyniel.ros_tools.quickros import QuickSubscriber\n",
    "from sensor_msgs.msg import LaserScan"
   ]
  },
  {
   "cell_type": "code",
   "execution_count": null,
   "metadata": {},
   "outputs": [],
   "source": [
    "q =  QuickSubscriber(\"/sick_laser_front/scan\", LaserScan, 100)"
   ]
  },
  {
   "cell_type": "code",
   "execution_count": null,
   "metadata": {
    "scrolled": true
   },
   "outputs": [],
   "source": [
    "min_angle = -1.82 # values for front scan\n",
    "max_angle = 1.87"
   ]
  },
  {
   "cell_type": "code",
   "execution_count": null,
   "metadata": {
    "scrolled": false
   },
   "outputs": [],
   "source": [
    "import numpy as np\n",
    "from matplotlib import pyplot as plt\n",
    "%matplotlib notebook\n",
    "plt.figure(figsize=(20,10))\n",
    "i = 80\n",
    "angles = np.arange(q.messages[i].angle_min, q.messages[i].angle_max, q.messages[i].angle_increment)\n",
    "ranges = np.array(q.messages[i].ranges)\n",
    "from matplotlib import pyplot as plt\n",
    "plt.plot(angles,ranges)\n",
    "plt.minorticks_on()\n",
    "plt.grid(b=True, which='minor', color='r', linestyle='--')\n",
    "plt.show()"
   ]
  },
  {
   "cell_type": "code",
   "execution_count": null,
   "metadata": {},
   "outputs": [],
   "source": [
    "plt.figure(figsize=(20,10))\n",
    "x = ranges * np.cos(angles)\n",
    "y = ranges * np.sin(angles)\n",
    "mask = (ranges < 1).astype(int)\n",
    "mask = np.logical_or(angles > max_angle, angles < min_angle)\n",
    "plt.scatter(x, y, c=mask)\n",
    "plt.axis('equal')\n",
    "plt.xlim([-4,4])\n",
    "plt.ylim([-4,4])\n",
    "plt.show()\n"
   ]
  },
  {
   "cell_type": "code",
   "execution_count": null,
   "metadata": {},
   "outputs": [],
   "source": [
    "q =  QuickSubscriber(\"/sick_laser_rear/scan\", LaserScan, 100)\n",
    "min_angle = -1.7 # values for front scan\n",
    "max_angle = 1.85"
   ]
  },
  {
   "cell_type": "code",
   "execution_count": null,
   "metadata": {},
   "outputs": [],
   "source": []
  }
 ],
 "metadata": {
  "kernelspec": {
   "display_name": "Python 2",
   "language": "python",
   "name": "python2"
  },
  "language_info": {
   "codemirror_mode": {
    "name": "ipython",
    "version": 2
   },
   "file_extension": ".py",
   "mimetype": "text/x-python",
   "name": "python",
   "nbconvert_exporter": "python",
   "pygments_lexer": "ipython2",
   "version": "2.7.12"
  }
 },
 "nbformat": 4,
 "nbformat_minor": 2
}
