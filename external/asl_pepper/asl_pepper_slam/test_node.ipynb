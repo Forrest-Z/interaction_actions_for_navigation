{
 "cells": [
  {
   "cell_type": "code",
   "execution_count": 1,
   "metadata": {},
   "outputs": [],
   "source": [
    "import rospy\n",
    "import tf\n",
    "from sensor_msgs.msg import Image, CameraInfo\n",
    "import cv2\n",
    "from cv_bridge import CvBridge, CvBridgeError\n",
    "import numpy as np\n",
    "from matplotlib import pyplot as plt\n",
    "from IPython.display import clear_output\n",
    "from subprocess import Popen\n",
    "import sys\n",
    "import os\n",
    "from os.path import expanduser\n",
    "home = expanduser(\"~\")\n",
    "sys.path.insert(0, home + \"Documents/pyniel\") # Pyniel as available on github\n",
    "from numpy_tools.gridify import gridify\n",
    "from ros_numpy.image import image_to_numpy\n",
    "%matplotlib notebook\n",
    "plt.ion()"
   ]
  },
  {
   "cell_type": "code",
   "execution_count": null,
   "metadata": {
    "scrolled": true
   },
   "outputs": [
    {
     "name": "stdout",
     "output_type": "stream",
     "text": [
      "\n",
      "Saved images\n",
      "\n",
      "Saved images\n",
      "\n",
      "Saved images\n",
      "\n",
      "Saved images\n",
      "\n",
      "Saved images\n",
      "\n",
      "Saved images\n",
      "\n",
      "Saved images\n",
      "\n",
      "Saved images\n",
      "\n",
      "Saved images\n",
      "\n",
      "Saved images\n",
      "\n",
      "Saved images\n",
      "\n",
      "Saved images\n",
      "\n",
      "Saved images\n",
      "\n",
      "Saved images\n",
      "\n",
      "Saved images\n",
      "\n",
      "Saved images\n",
      "\n",
      "Saved images\n",
      "\n",
      "Saved images\n",
      "\n",
      "Saved images\n",
      "\n",
      "Saved images\n",
      "\n",
      "Saved images\n",
      "\n",
      "Saved images\n",
      "\n",
      "Saved images\n"
     ]
    }
   ],
   "source": [
    "#!/usr/bin/env python\n",
    "\n",
    "   \n",
    "class Listener(object):\n",
    "    def __init__(self, max_frames=10):\n",
    "        self.fixed_frame = 'SurroundingFrontLaser_frame'\n",
    "        self.depth_topic = \"/pepper_robot/camera/depth/image_raw\"\n",
    "        self.ir_topic = \"/pepper_robot/camera/ir/image_raw\"\n",
    "        self.front_topic = \"/pepper_robot/camera/front/image_raw\"\n",
    "        self.depth_info_topic = \"/pepper_robot/camera/depth/camera_info\"\n",
    "        self.frames = []\n",
    "        self.tfs = []\n",
    "        self.cam_info = None\n",
    "        self.MAX_FRAMES = max_frames\n",
    "        \n",
    "        rospy.init_node('listener', anonymous=False)\n",
    "        #self.image_sub = rospy.Subscriber(self.depth_topic,\n",
    "        #                                  Image, self._depth_image_callback)\n",
    "        #self.cam_info_sub = rospy.Subscriber(self.depth_info_topic,\n",
    "        #                                    CameraInfo, self._cam_info_callback)\n",
    "        #self.tf_listener = tf.TransformListener()\n",
    "        self.ir_sub = rospy.Subscriber(self.ir_topic, Image, self._ir_callback)\n",
    "        self.front_sub = rospy.Subscriber(self.front_topic, Image, self._front_callback)\n",
    "        \n",
    "    def spin(self):\n",
    "        # spin() simply keeps python from exiting until this node is stopped\n",
    "        rospy.spin()\n",
    "    \n",
    "    def _cam_info_callback(self, data):\n",
    "        if self.cam_info is None:\n",
    "            self.cam_info = data\n",
    "            \n",
    "    def _depth_image_callback(self, data):\n",
    "        rospy.loginfo(\"Frame: %s \" +  rospy.get_caller_id() + \"I heard %s\", len(self.frames), data.width)\n",
    "        clear_output(wait=True)\n",
    "        try:\n",
    "            tf_fixed_to_image = self.tf_listener.lookupTransform(self.fixed_frame, data.header.frame_id, rospy.Time(0))\n",
    "            self.tfs.append(tf_fixed_to_image)\n",
    "        except (tf.LookupException, tf.ConnectivityException, tf.ExtrapolationException):\n",
    "            print(\"tf not found\")\n",
    "        self.frames.append(data)\n",
    "        if len(self.frames) > self.MAX_FRAMES:\n",
    "          rospy.signal_shutdown(\"Message received\")\n",
    "    \n",
    "    def _ir_callback(self, data):\n",
    "        self.latest_ir = data\n",
    "    \n",
    "    def _front_callback(self, data):\n",
    "        self.latest_front = data\n",
    "\n",
    "def write_images(listener):\n",
    "    cvbridge = CvBridge()\n",
    "    import os\n",
    "    ir_directory = \"./calibration_data/cam0/\"\n",
    "    front_directory = \"./calibration_data/cam1/\"\n",
    "    if not os.path.exists(ir_directory):\n",
    "      os.makedirs(ir_directory)\n",
    "    if not os.path.exists(front_directory):\n",
    "      os.makedirs(front_directory)\n",
    "    while True:\n",
    "        raw_input()\n",
    "        cv_ir = cvbridge.imgmsg_to_cv2(listener.latest_ir, \"\").astype('uint8')\n",
    "        cv_front = cvbridge.imgmsg_to_cv2(listener.latest_front, \"\")\n",
    "        timestr = \"{}\".format(listener.latest_front.header.stamp.to_nsec())\n",
    "        ir_filename = ir_directory+timestr+\".png\"\n",
    "        front_filename = front_directory+timestr+\".png\"\n",
    "        cv2.imwrite(ir_filename, cv_ir)\n",
    "        cv2.imwrite(front_filename, cv_front)\n",
    "        print(\"Saved images\")\n",
    "            \n",
    "if __name__ == '__main__':\n",
    "    from threading import Thread\n",
    "    l = Listener()\n",
    "    t = Thread(target=write_images, args=(l,))\n",
    "    try:\n",
    "      t.start()\n",
    "      l.spin()\n",
    "    except KeyboardInterrupt:\n",
    "        t.stop()\n",
    "        print(\"Ended\")\n",
    "    #frames = l.frames\n",
    "    "
   ]
  },
  {
   "cell_type": "code",
   "execution_count": null,
   "metadata": {},
   "outputs": [],
   "source": [
    "## SAVE BOTH IMAGES FOR CALIBRATION"
   ]
  },
  {
   "cell_type": "code",
   "execution_count": null,
   "metadata": {},
   "outputs": [],
   "source": [
    "## DEPTH IMAGE TO POINT CLOUD"
   ]
  },
  {
   "cell_type": "code",
   "execution_count": null,
   "metadata": {},
   "outputs": [],
   "source": [
    "plt.figure()\n",
    "plt.imshow(image_to_numpy(frames[0]))"
   ]
  },
  {
   "cell_type": "code",
   "execution_count": null,
   "metadata": {},
   "outputs": [],
   "source": [
    "image = image_to_numpy(frames[0])"
   ]
  },
  {
   "cell_type": "code",
   "execution_count": null,
   "metadata": {},
   "outputs": [],
   "source": [
    "image.shape"
   ]
  },
  {
   "cell_type": "code",
   "execution_count": null,
   "metadata": {},
   "outputs": [],
   "source": [
    "K = np.array(l.cam_info.K).reshape((3,3))\n",
    "f = np.array([K[0,0], K[1,1]]) # fx, fy\n",
    "c = np.array([K[0,2], K[1,2]]) # cx, cy\n",
    "K"
   ]
  },
  {
   "cell_type": "code",
   "execution_count": null,
   "metadata": {},
   "outputs": [],
   "source": [
    "image\n",
    "from numpy_tools.indexing import as_idx_array \n",
    "idx = as_idx_array(image.T, axis='all' )\n",
    "d_1 = ( idx - c ) / f # x, y on plane z = 1,  x = (pix_x - cx) / fx , y = ...\n",
    "xy = d_1 * image.T[:,:,None]"
   ]
  },
  {
   "cell_type": "code",
   "execution_count": null,
   "metadata": {},
   "outputs": [],
   "source": [
    "xyz = np.concatenate((xy, image.T[:,:,None]), axis=-1) # xyz in camera frame"
   ]
  },
  {
   "cell_type": "code",
   "execution_count": null,
   "metadata": {},
   "outputs": [],
   "source": [
    "point_cloud = xyz.reshape((-1,3))"
   ]
  },
  {
   "cell_type": "code",
   "execution_count": null,
   "metadata": {},
   "outputs": [],
   "source": [
    "fig, axes = plt.subplots(2,1, figsize=(20,10))\n",
    "axes[0].scatter(point_cloud[:,2], point_cloud[:,0], c=point_cloud[:,1])\n",
    "axes[1].scatter(point_cloud[:,2], -point_cloud[:,1], c=point_cloud[:,0])\n",
    "[ax.set_aspect('equal') for ax in axes]"
   ]
  },
  {
   "cell_type": "code",
   "execution_count": null,
   "metadata": {},
   "outputs": [],
   "source": [
    "l.tfs[0]"
   ]
  },
  {
   "cell_type": "code",
   "execution_count": null,
   "metadata": {},
   "outputs": [],
   "source": []
  }
 ],
 "metadata": {
  "kernelspec": {
   "display_name": "Python 2",
   "language": "python",
   "name": "python2"
  },
  "language_info": {
   "codemirror_mode": {
    "name": "ipython",
    "version": 2
   },
   "file_extension": ".py",
   "mimetype": "text/x-python",
   "name": "python",
   "nbconvert_exporter": "python",
   "pygments_lexer": "ipython2",
   "version": "2.7.12"
  }
 },
 "nbformat": 4,
 "nbformat_minor": 2
}
